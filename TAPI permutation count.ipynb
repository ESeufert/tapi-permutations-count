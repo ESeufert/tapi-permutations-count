{
 "cells": [
  {
   "cell_type": "code",
   "execution_count": 3,
   "id": "80950f88",
   "metadata": {},
   "outputs": [
    {
     "name": "stdout",
     "output_type": "stream",
     "text": [
      "0\n",
      "--- 0.00013589859008789062 seconds ---\n",
      "100\n",
      "--- 902.6361699104309 seconds ---\n",
      "200\n",
      "--- 917.2868378162384 seconds ---\n",
      "300\n",
      "--- 935.6592018604279 seconds ---\n",
      "400\n",
      "--- 929.4806790351868 seconds ---\n",
      "500\n",
      "--- 934.3093750476837 seconds ---\n",
      "600\n",
      "--- 947.1886310577393 seconds ---\n",
      "700\n",
      "--- 931.6137390136719 seconds ---\n",
      "800\n",
      "--- 937.529797077179 seconds ---\n",
      "900\n",
      "--- 3659.869528770447 seconds ---\n"
     ]
    }
   ],
   "source": [
    "import random\n",
    "import numpy as np\n",
    "import pandas as pd\n",
    "import time\n",
    "import matplotlib as plt\n",
    "\n",
    "def pick_weekly_topic():\n",
    "    topics = np.random.choice( 350, 6, replace=False ).tolist() \n",
    "    #generate 6 random topics\n",
    "    #first 5 are the user's topics, last one is the random one\n",
    "    if topics[ -1 ] * 2 <= ( 350 * 2 * .05 ): \n",
    "        return topics[ -1 ]\n",
    "    else:\n",
    "        return topics[ -2 ]\n",
    "    \n",
    "def iter_topics( topics ):\n",
    "    wt = pick_weekly_topic()\n",
    "    topics = topics[ 1: ] + [ wt ]\n",
    "    return topics\n",
    "\n",
    "def instantiate_topics( topics = [] ):\n",
    "    for i in range( 3 ):\n",
    "        topics.append( pick_weekly_topic() )\n",
    "    return topics\n",
    "\n",
    "topics = instantiate_topics( )\n",
    "topics_permutations_counts = {}\n",
    "topics_permutations = {}\n",
    "topics_permutations[ tuple( topics ) ] = 1\n",
    "#time stuff\n",
    "start_time = time.time()\n",
    "last_run = start_time\n",
    "\n",
    "for j in range( 1000 ):\n",
    "    if j % 100 == 0:\n",
    "        print( j )\n",
    "        print( \"--- %s seconds ---\" % (time.time() - last_run ) )\n",
    "        last_run = time.time()\n",
    "    for i in range( 1000000 ):\n",
    "        topics = iter_topics( topics )\n",
    "        if tuple( topics ) not in topics_permutations:\n",
    "            topics_permutations[ tuple( topics ) ] = 1\n",
    "        else:\n",
    "            topics_permutations[ tuple( topics ) ] += 1\n",
    "\n",
    "    if len( topics_permutations ) not in topics_permutations_counts:\n",
    "        topics_permutations_counts[ len( topics_permutations ) ] = 1\n",
    "    else:\n",
    "        topics_permutations_counts[ len( topics_permutations ) ] += 1"
   ]
  },
  {
   "cell_type": "code",
   "execution_count": 4,
   "id": "a7804d0f",
   "metadata": {},
   "outputs": [
    {
     "data": {
      "text/plain": [
       "array([[<AxesSubplot:title={'center':'permutations'}>]], dtype=object)"
      ]
     },
     "execution_count": 4,
     "metadata": {},
     "output_type": "execute_result"
    },
    {
     "data": {
      "image/png": "[encoded data removed]",
      "text/plain": [
       "<Figure size 432x288 with 1 Axes>"
      ]
     },
     "metadata": {
      "needs_background": "light"
     },
     "output_type": "display_data"
    }
   ],
   "source": [
    "perms = [ perm for perm_sublist in [ [ key ] * value for key, value in topics_permutations_counts.items() ] for perm in perm_sublist ]\n",
    "perms = pd.DataFrame( perms, columns=['permutations'] )\n",
    "perms.hist(bins=50)"
   ]
  },
  {
   "cell_type": "code",
   "execution_count": 7,
   "id": "922e11c3",
   "metadata": {},
   "outputs": [
    {
     "name": "stdout",
     "output_type": "stream",
     "text": [
      "     permutations\n",
      "0          986577\n",
      "1         1946952\n",
      "2         2882204\n",
      "3         3793110\n",
      "4         4679818\n",
      "..            ...\n",
      "995      42875000\n",
      "996      42875000\n",
      "997      42875000\n",
      "998      42875000\n",
      "999      42875000\n",
      "\n",
      "[1000 rows x 1 columns]\n",
      "40908224.345\n"
     ]
    }
   ],
   "source": [
    "#the permutations\n",
    "print( perms )\n",
    "print( perms[ 'permutations'].mean() )"
   ]
  },
  {
   "cell_type": "code",
   "execution_count": null,
   "id": "ee753857",
   "metadata": {},
   "outputs": [],
   "source": []
  }
 ],
 "metadata": {
  "kernelspec": {
   "display_name": "Python 3 (ipykernel)",
   "language": "python",
   "name": "python3"
  },
  "language_info": {
   "codemirror_mode": {
    "name": "ipython",
    "version": 3
   },
   "file_extension": ".py",
   "mimetype": "text/x-python",
   "name": "python",
   "nbconvert_exporter": "python",
   "pygments_lexer": "ipython3",
   "version": "3.9.9"
  }
 },
 "nbformat": 4,
 "nbformat_minor": 5
}
